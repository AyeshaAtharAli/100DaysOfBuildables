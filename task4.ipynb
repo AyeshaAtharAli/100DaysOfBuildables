{
  "nbformat": 4,
  "nbformat_minor": 0,
  "metadata": {
    "colab": {
      "provenance": []
    },
    "kernelspec": {
      "name": "python3",
      "display_name": "Python 3"
    },
    "language_info": {
      "name": "python"
    }
  },
  "cells": [
    {
      "cell_type": "markdown",
      "source": [
        "Mean\n"
      ],
      "metadata": {
        "id": "mKuAsB_B2Dkr"
      }
    },
    {
      "cell_type": "code",
      "execution_count": 2,
      "metadata": {
        "id": "kRpu1n1OA6Uy",
        "colab": {
          "base_uri": "https://localhost:8080/"
        },
        "outputId": "08100fc8-b616-4179-e421-d04d75c051c0"
      },
      "outputs": [
        {
          "output_type": "execute_result",
          "data": {
            "text/plain": [
              "6.166666666666667"
            ]
          },
          "metadata": {},
          "execution_count": 2
        }
      ],
      "source": [
        "def mean(numbers):\n",
        "    return sum(numbers) / len(numbers)\n",
        "numbers=[2,5,6,7,8,9]\n",
        "mean(numbers)\n"
      ]
    },
    {
      "cell_type": "markdown",
      "source": [
        "Median"
      ],
      "metadata": {
        "id": "m0mlZysz2jp0"
      }
    },
    {
      "cell_type": "code",
      "source": [
        "def median(numbers):\n",
        "    numbers = sorted(numbers)\n",
        "    n = len(numbers)\n",
        "    if n % 2 == 0:\n",
        "        return (numbers[n//2 - 1] + numbers[n//2]) / 2\n",
        "    else:\n",
        "        return numbers[n//2]\n",
        "numbers=[5,2,6,7,9,8]\n",
        "median(numbers)"
      ],
      "metadata": {
        "colab": {
          "base_uri": "https://localhost:8080/"
        },
        "id": "VlLVbrrD2k9o",
        "outputId": "8ca50c0d-8cb1-46e9-f260-e6bd4a77fe0d"
      },
      "execution_count": 3,
      "outputs": [
        {
          "output_type": "execute_result",
          "data": {
            "text/plain": [
              "6.5"
            ]
          },
          "metadata": {},
          "execution_count": 3
        }
      ]
    },
    {
      "cell_type": "markdown",
      "source": [
        "Mode"
      ],
      "metadata": {
        "id": "_Nf68vLp2_vy"
      }
    },
    {
      "cell_type": "code",
      "source": [
        "from collections import Counter\n",
        "\n",
        "def mode(numbers):\n",
        "    count = Counter(numbers)\n",
        "    max_count = max(count.values())\n",
        "    mode_values = [num for num, c in count.items() if c == max_count]\n",
        "    return mode_values\n",
        "\n",
        "numbers = [5, 2, 6, 7, 9, 8, 8, 2, 2]\n",
        "print(mode(numbers))"
      ],
      "metadata": {
        "colab": {
          "base_uri": "https://localhost:8080/"
        },
        "id": "XgB3ZWkL3BUL",
        "outputId": "8e704f7d-f98d-4b14-c1f1-0f5fcec9e0ee"
      },
      "execution_count": 4,
      "outputs": [
        {
          "output_type": "stream",
          "name": "stdout",
          "text": [
            "[2]\n"
          ]
        }
      ]
    },
    {
      "cell_type": "markdown",
      "source": [
        "Variance"
      ],
      "metadata": {
        "id": "sqC1mPu63c-z"
      }
    },
    {
      "cell_type": "code",
      "source": [
        "def variance(numbers):\n",
        "    mean = sum(numbers) / len(numbers)\n",
        "    variance = sum((x - mean) ** 2 for x in numbers) / (len(numbers) - 1)\n",
        "    return variance\n",
        "numbers=[5,2,6,7,9,8]\n",
        "variance(numbers)\n"
      ],
      "metadata": {
        "colab": {
          "base_uri": "https://localhost:8080/"
        },
        "id": "oqnLzr2y3g5c",
        "outputId": "d4348855-a274-4e25-e283-edd0e417de8b"
      },
      "execution_count": 5,
      "outputs": [
        {
          "output_type": "execute_result",
          "data": {
            "text/plain": [
              "6.166666666666667"
            ]
          },
          "metadata": {},
          "execution_count": 5
        }
      ]
    },
    {
      "cell_type": "markdown",
      "source": [
        "Standard Deviation"
      ],
      "metadata": {
        "id": "AhlgpAXm3hvT"
      }
    },
    {
      "cell_type": "code",
      "source": [
        "def standard(numbers):\n",
        "    mean = sum(numbers) / len(numbers)\n",
        "    variance = sum((x - mean) ** 2 for x in numbers) / (len(numbers) - 1)\n",
        "    std = variance ** 0.5\n",
        "    return std\n",
        "numbers=[5,2,6,7,9,8]\n",
        "standard(numbers)"
      ],
      "metadata": {
        "colab": {
          "base_uri": "https://localhost:8080/"
        },
        "id": "fzp3fI4s3jyp",
        "outputId": "0806e8d1-504c-4e7d-b90d-f02fb074fb6e"
      },
      "execution_count": 8,
      "outputs": [
        {
          "output_type": "execute_result",
          "data": {
            "text/plain": [
              "2.48327740429189"
            ]
          },
          "metadata": {},
          "execution_count": 8
        }
      ]
    },
    {
      "cell_type": "markdown",
      "source": [
        "Euclidean Distance"
      ],
      "metadata": {
        "id": "hlll7OKN3kR6"
      }
    },
    {
      "cell_type": "code",
      "source": [
        "def euclidean_distance(point1, point2):\n",
        "    return ((point1[0] - point2[0]) ** 2 + (point1[1] - point2[1]) ** 2) ** 0.5\n",
        "\n",
        "point1 = (1, 2)\n",
        "point2 = (4, 6)\n",
        "euclidean_distance(point1, point2)"
      ],
      "metadata": {
        "colab": {
          "base_uri": "https://localhost:8080/"
        },
        "id": "2GmxH-P03mia",
        "outputId": "eec58706-e745-4d95-84e8-ba1e129ef572"
      },
      "execution_count": 9,
      "outputs": [
        {
          "output_type": "execute_result",
          "data": {
            "text/plain": [
              "5.0"
            ]
          },
          "metadata": {},
          "execution_count": 9
        }
      ]
    },
    {
      "cell_type": "markdown",
      "source": [
        "Sigmoid"
      ],
      "metadata": {
        "id": "fG1ZSDnQ3nQj"
      }
    },
    {
      "cell_type": "code",
      "source": [
        "import math\n",
        "def sigmoid(x):\n",
        "    return 1 / (1 + math.exp(-x))\n",
        "x=2\n",
        "sigmoid(x)"
      ],
      "metadata": {
        "colab": {
          "base_uri": "https://localhost:8080/"
        },
        "id": "Dy6iqet73pDi",
        "outputId": "7988ddb9-c1d5-4bf6-bc52-db083bfb8e82"
      },
      "execution_count": 10,
      "outputs": [
        {
          "output_type": "execute_result",
          "data": {
            "text/plain": [
              "0.8807970779778823"
            ]
          },
          "metadata": {},
          "execution_count": 10
        }
      ]
    },
    {
      "cell_type": "markdown",
      "source": [
        "What did I learn?\n",
        "1) Mean, median, and mode help us summarize central tendency in data.\n",
        "2) Variance and standard deviation show how spread out the data is.\n",
        "3) Euclidean distance measures how far two points (or values) are from each other.\n",
        "4) The sigmoid function squashes any number into a range between 0 and 1, which is useful in machine learning.\n"
      ],
      "metadata": {
        "id": "zhSMikSb45C7"
      }
    },
    {
      "cell_type": "markdown",
      "source": [],
      "metadata": {
        "id": "j5z0BBY33kQx"
      }
    },
    {
      "cell_type": "markdown",
      "source": [],
      "metadata": {
        "id": "UX4ighWk3c97"
      }
    }
  ]
}