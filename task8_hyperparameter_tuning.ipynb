{
  "nbformat": 4,
  "nbformat_minor": 0,
  "metadata": {
    "colab": {
      "provenance": []
    },
    "kernelspec": {
      "name": "python3",
      "display_name": "Python 3"
    },
    "language_info": {
      "name": "python"
    }
  },
  "cells": [
    {
      "cell_type": "code",
      "execution_count": 1,
      "metadata": {
        "id": "Xou9MzFmzWpb",
        "colab": {
          "base_uri": "https://localhost:8080/"
        },
        "outputId": "560963ee-eca5-4951-81c3-613923636644"
      },
      "outputs": [
        {
          "output_type": "stream",
          "name": "stdout",
          "text": [
            "Mounted at /content/drive\n"
          ]
        }
      ],
      "source": [
        "from google.colab import drive\n",
        "drive.mount('/content/drive')"
      ]
    },
    {
      "cell_type": "code",
      "source": [
        "import pandas as pd\n",
        "\n",
        "df = pd.read_csv('/content/drive/MyDrive/data_modified.csv')\n",
        "print(\"Dataset loaded successfully!\")"
      ],
      "metadata": {
        "colab": {
          "base_uri": "https://localhost:8080/"
        },
        "id": "tjdbPG46pPBv",
        "outputId": "f9ca285f-6e15-4c81-90ba-bc1d7ac27596"
      },
      "execution_count": 2,
      "outputs": [
        {
          "output_type": "stream",
          "name": "stdout",
          "text": [
            "Dataset loaded successfully!\n"
          ]
        }
      ]
    },
    {
      "cell_type": "markdown",
      "metadata": {
        "id": "2a97610e"
      },
      "source": [
        "## Prepare data\n",
        "\n"
      ]
    },
    {
      "cell_type": "code",
      "metadata": {
        "colab": {
          "base_uri": "https://localhost:8080/"
        },
        "id": "4f125c14",
        "outputId": "d66d5958-80c0-47b8-d0a2-3f9c11d47b51"
      },
      "source": [
        "from sklearn.model_selection import train_test_split\n",
        "\n",
        "X = df.drop(['price', 'date', 'street', 'city', 'statezip', 'country'], axis=1)\n",
        "y = df['price']\n",
        "\n",
        "X_train, X_test, y_train, y_test = train_test_split(X, y, test_size=0.25, random_state=42)\n",
        "\n",
        "print(\"Data split successfully!\")\n",
        "print(\"Shape of X_train:\", X_train.shape)\n",
        "print(\"Shape of X_test:\", X_test.shape)\n",
        "print(\"Shape of y_train:\", y_train.shape)\n",
        "print(\"Shape of y_test:\", y_test.shape)"
      ],
      "execution_count": 3,
      "outputs": [
        {
          "output_type": "stream",
          "name": "stdout",
          "text": [
            "Data split successfully!\n",
            "Shape of X_train: (3450, 12)\n",
            "Shape of X_test: (1150, 12)\n",
            "Shape of y_train: (3450,)\n",
            "Shape of y_test: (1150,)\n"
          ]
        }
      ]
    },
    {
      "cell_type": "markdown",
      "metadata": {
        "id": "4cb00254"
      },
      "source": [
        "## Train initial model\n",
        "\n",
        "\n"
      ]
    },
    {
      "cell_type": "code",
      "metadata": {
        "colab": {
          "base_uri": "https://localhost:8080/"
        },
        "id": "3d924102",
        "outputId": "0fa371b0-8552-4386-afc2-e4e4be40679b"
      },
      "source": [
        "from sklearn.ensemble import RandomForestRegressor\n",
        "\n",
        "# Instantiate a RandomForestRegressor object with default hyperparameters\n",
        "model_before_tuning = RandomForestRegressor(random_state=42)\n",
        "\n",
        "# Train the model using the training data\n",
        "model_before_tuning.fit(X_train, y_train)\n",
        "\n",
        "print(\"Random Forest model trained successfully with default hyperparameters!\")"
      ],
      "execution_count": 4,
      "outputs": [
        {
          "output_type": "stream",
          "name": "stdout",
          "text": [
            "Random Forest model trained successfully with default hyperparameters!\n"
          ]
        }
      ]
    },
    {
      "cell_type": "markdown",
      "metadata": {
        "id": "2bee4b3e"
      },
      "source": [
        "## Evaluate initial model\n",
        "\n",
        "\n"
      ]
    },
    {
      "cell_type": "code",
      "metadata": {
        "colab": {
          "base_uri": "https://localhost:8080/"
        },
        "id": "a18cb2f3",
        "outputId": "4c16103f-93cf-4dee-cd49-0ec4436c4ff4"
      },
      "source": [
        "from sklearn.metrics import mean_absolute_error, mean_squared_error, r2_score\n",
        "import numpy as np\n",
        "\n",
        "# Make predictions on the test data\n",
        "y_pred_before_tuning = model_before_tuning.predict(X_test)\n",
        "\n",
        "# Calculate evaluation metrics\n",
        "mae_before_tuning = mean_absolute_error(y_test, y_pred_before_tuning)\n",
        "rmse_before_tuning = np.sqrt(mean_squared_error(y_test, y_pred_before_tuning))\n",
        "r2_before_tuning = r2_score(y_test, y_pred_before_tuning)\n",
        "\n",
        "# Print the evaluation metrics\n",
        "print(f\"Initial Model Performance:\")\n",
        "print(f\"Mean Absolute Error (MAE): {mae_before_tuning}\")\n",
        "print(f\"Root Mean Squared Error (RMSE): {rmse_before_tuning}\")\n",
        "print(f\"R-squared (R²): {r2_before_tuning}\")"
      ],
      "execution_count": 5,
      "outputs": [
        {
          "output_type": "stream",
          "name": "stdout",
          "text": [
            "Initial Model Performance:\n",
            "Mean Absolute Error (MAE): 197558.07290969958\n",
            "Root Mean Squared Error (RMSE): 898068.9039143921\n",
            "R-squared (R²): 0.042487718738399405\n"
          ]
        }
      ]
    },
    {
      "cell_type": "markdown",
      "metadata": {
        "id": "62555b29"
      },
      "source": [
        "## Tune hyperparameters\n",
        "\n",
        "\n"
      ]
    },
    {
      "cell_type": "code",
      "metadata": {
        "colab": {
          "base_uri": "https://localhost:8080/"
        },
        "id": "a2668795",
        "outputId": "7811f9af-a7a1-44bb-9a80-0414f869b706"
      },
      "source": [
        "from sklearn.ensemble import RandomForestRegressor\n",
        "from sklearn.model_selection import RandomizedSearchCV\n",
        "import numpy as np\n",
        "\n",
        "# Define a parameter distribution for hyperparameters to tune\n",
        "param_dist = {\n",
        "    'n_estimators': np.arange(100, 500, 100),\n",
        "    'max_depth': [None, 10, 20, 30],\n",
        "    'min_samples_split': np.arange(2, 11, 2),\n",
        "    'min_samples_leaf': np.arange(1, 11, 2),\n",
        "    'max_features': ['auto', 'sqrt', 'log2']\n",
        "}\n",
        "\n",
        "# Instantiate a RandomForestRegressor object\n",
        "rf = RandomForestRegressor(random_state=42)\n",
        "\n",
        "# Instantiate RandomizedSearchCV\n",
        "random_search = RandomizedSearchCV(estimator=rf, param_distributions=param_dist,\n",
        "                                   n_iter=10, cv=5, random_state=42, n_jobs=-1, scoring='neg_mean_absolute_error')\n",
        "\n",
        "# Fit the RandomizedSearchCV object to the training data\n",
        "random_search.fit(X_train, y_train)\n",
        "\n",
        "# Print the best hyperparameters found\n",
        "print(\"Best hyperparameters found:\")\n",
        "print(random_search.best_params_)"
      ],
      "execution_count": 6,
      "outputs": [
        {
          "output_type": "stream",
          "name": "stderr",
          "text": [
            "/usr/local/lib/python3.12/dist-packages/sklearn/model_selection/_validation.py:528: FitFailedWarning: \n",
            "10 fits failed out of a total of 50.\n",
            "The score on these train-test partitions for these parameters will be set to nan.\n",
            "If these failures are not expected, you can try to debug them by setting error_score='raise'.\n",
            "\n",
            "Below are more details about the failures:\n",
            "--------------------------------------------------------------------------------\n",
            "10 fits failed with the following error:\n",
            "Traceback (most recent call last):\n",
            "  File \"/usr/local/lib/python3.12/dist-packages/sklearn/model_selection/_validation.py\", line 866, in _fit_and_score\n",
            "    estimator.fit(X_train, y_train, **fit_params)\n",
            "  File \"/usr/local/lib/python3.12/dist-packages/sklearn/base.py\", line 1382, in wrapper\n",
            "    estimator._validate_params()\n",
            "  File \"/usr/local/lib/python3.12/dist-packages/sklearn/base.py\", line 436, in _validate_params\n",
            "    validate_parameter_constraints(\n",
            "  File \"/usr/local/lib/python3.12/dist-packages/sklearn/utils/_param_validation.py\", line 98, in validate_parameter_constraints\n",
            "    raise InvalidParameterError(\n",
            "sklearn.utils._param_validation.InvalidParameterError: The 'max_features' parameter of RandomForestRegressor must be an int in the range [1, inf), a float in the range (0.0, 1.0], a str among {'sqrt', 'log2'} or None. Got 'auto' instead.\n",
            "\n",
            "  warnings.warn(some_fits_failed_message, FitFailedWarning)\n",
            "/usr/local/lib/python3.12/dist-packages/sklearn/model_selection/_search.py:1108: UserWarning: One or more of the test scores are non-finite: [-153789.19605514 -155069.37106821 -153789.19605514 -155573.01106606\n",
            " -154890.71044606 -153967.11576596 -155623.29556942              nan\n",
            "              nan -153711.60374569]\n",
            "  warnings.warn(\n"
          ]
        },
        {
          "output_type": "stream",
          "name": "stdout",
          "text": [
            "Best hyperparameters found:\n",
            "{'n_estimators': np.int64(400), 'min_samples_split': np.int64(2), 'min_samples_leaf': np.int64(3), 'max_features': 'log2', 'max_depth': 30}\n"
          ]
        }
      ]
    },
    {
      "cell_type": "markdown",
      "metadata": {
        "id": "d3005286"
      },
      "source": [
        "## Train tuned model\n",
        "\n",
        "\n"
      ]
    },
    {
      "cell_type": "code",
      "metadata": {
        "colab": {
          "base_uri": "https://localhost:8080/"
        },
        "id": "8cb8a284",
        "outputId": "dafd9850-ea0f-459f-c433-ffcb72886f83"
      },
      "source": [
        "from sklearn.ensemble import RandomForestRegressor\n",
        "\n",
        "# Instantiate a RandomForestRegressor object with the best hyperparameters\n",
        "model_after_tuning = RandomForestRegressor(n_estimators=random_search.best_params_['n_estimators'],\n",
        "                                           max_depth=random_search.best_params_['max_depth'],\n",
        "                                           min_samples_split=random_search.best_params_['min_samples_split'],\n",
        "                                           min_samples_leaf=random_search.best_params_['min_samples_leaf'],\n",
        "                                           max_features=random_search.best_params_['max_features'],\n",
        "                                           random_state=42)\n",
        "\n",
        "# Train the model on the training data\n",
        "model_after_tuning.fit(X_train, y_train)\n",
        "\n",
        "print(\"Random Forest model trained successfully with best hyperparameters!\")"
      ],
      "execution_count": 7,
      "outputs": [
        {
          "output_type": "stream",
          "name": "stdout",
          "text": [
            "Random Forest model trained successfully with best hyperparameters!\n"
          ]
        }
      ]
    },
    {
      "cell_type": "markdown",
      "metadata": {
        "id": "82acde10"
      },
      "source": [
        "## Evaluate tuned model\n",
        "\n",
        "\n"
      ]
    },
    {
      "cell_type": "code",
      "metadata": {
        "colab": {
          "base_uri": "https://localhost:8080/"
        },
        "id": "87f41f75",
        "outputId": "8ba35276-7592-4b83-cb8c-96810f9ae3e9"
      },
      "source": [
        "from sklearn.metrics import mean_absolute_error, mean_squared_error, r2_score\n",
        "import numpy as np\n",
        "\n",
        "# Make predictions on the test data using the tuned model\n",
        "y_pred_after_tuning = model_after_tuning.predict(X_test)\n",
        "\n",
        "# Calculate evaluation metrics for the tuned model\n",
        "mae_after_tuning = mean_absolute_error(y_test, y_pred_after_tuning)\n",
        "rmse_after_tuning = np.sqrt(mean_squared_error(y_test, y_pred_after_tuning))\n",
        "r2_after_tuning = r2_score(y_test, y_pred_after_tuning)\n",
        "\n",
        "# Print the evaluation metrics for the tuned model\n",
        "print(f\"Tuned Model Performance:\")\n",
        "print(f\"Mean Absolute Error (MAE): {mae_after_tuning}\")\n",
        "print(f\"Root Mean Squared Error (RMSE): {rmse_after_tuning}\")\n",
        "print(f\"R-squared (R²): {r2_after_tuning}\")"
      ],
      "execution_count": 8,
      "outputs": [
        {
          "output_type": "stream",
          "name": "stdout",
          "text": [
            "Tuned Model Performance:\n",
            "Mean Absolute Error (MAE): 191929.56560299377\n",
            "Root Mean Squared Error (RMSE): 893548.6011195927\n",
            "R-squared (R²): 0.052102465706316825\n"
          ]
        }
      ]
    },
    {
      "cell_type": "markdown",
      "metadata": {
        "id": "c5675db6"
      },
      "source": [
        "## Compare results\n",
        "\n",
        "\n"
      ]
    },
    {
      "cell_type": "code",
      "metadata": {
        "colab": {
          "base_uri": "https://localhost:8080/"
        },
        "id": "bb5a5d20",
        "outputId": "0dd091e9-68cf-4c19-a098-d9e49d7a7d5d"
      },
      "source": [
        "print(\"Performance Comparison:\")\n",
        "print(\"-\" * 30)\n",
        "print(f\"Initial Model:\")\n",
        "print(f\"  Mean Absolute Error (MAE): {mae_before_tuning:.2f}\")\n",
        "print(f\"  Root Mean Squared Error (RMSE): {rmse_before_tuning:.2f}\")\n",
        "print(f\"  R-squared (R²): {r2_before_tuning:.4f}\")\n",
        "print(\"-\" * 30)\n",
        "print(f\"Tuned Model:\")\n",
        "print(f\"  Mean Absolute Error (MAE): {mae_after_tuning:.2f}\")\n",
        "print(f\"  Root Mean Squared Error (RMSE): {rmse_after_tuning:.2f}\")\n",
        "print(f\"  R-squared (R²): {r2_after_tuning:.4f}\")\n",
        "print(\"-\" * 30)\n",
        "\n",
        "if mae_after_tuning < mae_before_tuning:\n",
        "    print(\"Tuning improved the Mean Absolute Error.\")\n",
        "else:\n",
        "    print(\"Tuning did not improve the Mean Absolute Error.\")\n",
        "\n",
        "if rmse_after_tuning < rmse_before_tuning:\n",
        "    print(\"Tuning improved the Root Mean Squared Error.\")\n",
        "else:\n",
        "    print(\"Tuning did not improve the Root Mean Squared Error.\")\n",
        "\n",
        "if r2_after_tuning > r2_before_tuning:\n",
        "    print(\"Tuning improved the R-squared.\")\n",
        "else:\n",
        "    print(\"Tuning did not improve the R-squared.\")"
      ],
      "execution_count": 9,
      "outputs": [
        {
          "output_type": "stream",
          "name": "stdout",
          "text": [
            "Performance Comparison:\n",
            "------------------------------\n",
            "Initial Model:\n",
            "  Mean Absolute Error (MAE): 197558.07\n",
            "  Root Mean Squared Error (RMSE): 898068.90\n",
            "  R-squared (R²): 0.0425\n",
            "------------------------------\n",
            "Tuned Model:\n",
            "  Mean Absolute Error (MAE): 191929.57\n",
            "  Root Mean Squared Error (RMSE): 893548.60\n",
            "  R-squared (R²): 0.0521\n",
            "------------------------------\n",
            "Tuning improved the Mean Absolute Error.\n",
            "Tuning improved the Root Mean Squared Error.\n",
            "Tuning improved the R-squared.\n"
          ]
        }
      ]
    },
    {
      "cell_type": "markdown",
      "metadata": {
        "id": "a7e3c56b"
      },
      "source": [
        "## Visualize results\n",
        "\n",
        "### Subtask:\n",
        "Create a bar chart comparing the performance metrics before and after tuning.\n"
      ]
    },
    {
      "cell_type": "code",
      "metadata": {
        "colab": {
          "base_uri": "https://localhost:8080/",
          "height": 457
        },
        "id": "9afd9b8a",
        "outputId": "7dfc8303-c380-4adc-898c-df70c09704f4"
      },
      "source": [
        "import matplotlib.pyplot as plt\n",
        "import numpy as np\n",
        "\n",
        "metric_names = ['MAE', 'RMSE', 'R²']\n",
        "metrics_before_tuning = [mae_before_tuning, rmse_before_tuning, r2_before_tuning]\n",
        "metrics_after_tuning = [mae_after_tuning, rmse_after_tuning, r2_after_tuning]\n",
        "\n",
        "x = np.arange(len(metric_names))  # the label locations\n",
        "width = 0.35  # the width of the bars\n",
        "\n",
        "fig, ax = plt.subplots(figsize=(10, 6))\n",
        "rects1 = ax.bar(x - width/2, metrics_before_tuning, width, label='Before Tuning')\n",
        "rects2 = ax.bar(x + width/2, metrics_after_tuning, width, label='After Tuning')\n",
        "\n",
        "# Add some text for labels, title and custom x-axis tick labels, etc.\n",
        "ax.set_ylabel('Value')\n",
        "ax.set_xlabel('Metric')\n",
        "ax.set_title('Model Performance Before and After Tuning')\n",
        "ax.set_xticks(x)\n",
        "ax.set_xticklabels(metric_names)\n",
        "ax.legend()\n",
        "\n",
        "def autolabel(rects):\n",
        "    \"\"\"Attach a text label above each bar in *rects*, displaying its height.\"\"\"\n",
        "    for rect in rects:\n",
        "        height = rect.get_height()\n",
        "        ax.annotate(f'{height:.2f}',\n",
        "                    xy=(rect.get_x() + rect.get_width() / 2, height),\n",
        "                    xytext=(0, 3),  # 3 points vertical offset\n",
        "                    textcoords=\"offset points\",\n",
        "                    ha='center', va='bottom')\n",
        "\n",
        "autolabel(rects1)\n",
        "autolabel(rects2)\n",
        "\n",
        "fig.tight_layout()\n",
        "\n",
        "plt.show()"
      ],
      "execution_count": 10,
      "outputs": [
        {
          "output_type": "display_data",
          "data": {
            "text/plain": [
              "<Figure size 1000x600 with 1 Axes>"
            ],
            "image/png": "[encoded data removed]"
          },
          "metadata": {}
        }
      ]
    },
    {
      "cell_type": "code",
      "metadata": {
        "colab": {
          "base_uri": "https://localhost:8080/"
        },
        "id": "bzLDEpGLq_0w",
        "outputId": "742e44b8-564c-4efb-e92b-7dde61eab929"
      },
      "source": [
        "mae_improvement = mae_before_tuning - mae_after_tuning\n",
        "\n",
        "reflection_markdown = \"\"\"\n",
        "## Reflection on Random Forest Hyperparameter Tuning\n",
        "\n",
        "This tuning process aimed to optimize the performance of a Random Forest Regressor model for predicting house prices. We used **RandomizedSearchCV** to efficiently explore a defined range of hyperparameter values. RandomizedSearchCV works by sampling a fixed number of hyperparameter combinations from the specified distribution, performing cross-validation for each combination, and identifying the set of hyperparameters that yields the best performance based on a chosen scoring metric (in this case, negative mean absolute error, equivalent to minimizing MAE).\n",
        "\n",
        "We tuned the following hyperparameters:\n",
        "\n",
        "*   **`n_estimators`**: The number of trees in the forest. Increasing this generally improves performance but also increases computation time.\n",
        "*   **`max_depth`**: The maximum depth of each tree. Deeper trees can capture more complex relationships but risk overfitting.\n",
        "*   **`min_samples_split`**: The minimum number of samples required to split an internal node. Higher values prevent the tree from splitting on small groups of samples, which can help with overfitting.\n",
        "*   **`min_samples_leaf`**: The minimum number of samples required to be at a leaf node. Similar to `min_samples_split`, higher values can help prevent overfitting.\n",
        "*   **`max_features`**: The number of features to consider when looking for the best split. `'sqrt'` (equivalent to `auto` in older versions) and `'log2'` are common choices that introduce randomness and can help prevent overfitting.\n",
        "\n",
        "Analyzing the performance metrics before and after tuning reveals a modest improvement:\n",
        "\n",
        "*   **MAE (Mean Absolute Error):** Decreased from approximately {mae_before_tuning:.2f} to {mae_after_tuning:.2f}. This indicates that, on average, the tuned model's predictions are closer to the actual prices by about ${mae_improvement:.2f}.\n",
        "*   **RMSE (Root Mean Squared Error):** Decreased from approximately {rmse_before_tuning:.2f} to {rmse_after_tuning:.2f}. RMSE penalizes larger errors more heavily than MAE. The decrease suggests that the tuned model also reduced some of the larger prediction errors.\n",
        "*   **R² (R-squared):** Increased from approximately {r2_before_tuning:.4f} to {r2_after_tuning:.4f}. R² represents the proportion of the variance in the dependent variable (price) that is predictable from the independent variables. While still relatively low, the increase indicates that the tuned model explains a slightly larger percentage of the variance in house prices compared to the untuned model.\n",
        "\n",
        "The tuning process, while showing a performance improvement, comes with a **trade-off in computation time**. Training multiple models with different hyperparameter combinations and performing cross-validation is significantly more time-consuming than training a single model with default settings. For this specific dataset and the chosen parameter grid, the improvement in accuracy is noticeable but not substantial.\n",
        "\n",
        "In conclusion, hyperparameter tuning using RandomizedSearchCV on this Random Forest model resulted in a slight improvement in performance metrics (lower MAE and RMSE, slightly higher R²). The impact of the tuned hyperparameters is reflected in these improved scores, suggesting that the search found a slightly better configuration for this dataset. However, this improvement came at the cost of increased computation time required for the tuning process. For this particular problem, the observed performance improvement might be considered marginal relative to the computational expense, and a decision on whether to use the tuned model would depend on the specific requirements and constraints of the application.\n",
        "\n",
        "\"\"\".format(mae_before_tuning=mae_before_tuning, mae_after_tuning=mae_after_tuning, rmse_before_tuning=rmse_before_tuning, rmse_after_tuning=rmse_after_tuning, r2_before_tuning=r2_before_tuning, r2_after_tuning=r2_after_tuning, mae_improvement=mae_improvement)\n",
        "\n",
        "print(reflection_markdown)"
      ],
      "execution_count": 14,
      "outputs": [
        {
          "output_type": "stream",
          "name": "stdout",
          "text": [
            "\n",
            "## Reflection on Random Forest Hyperparameter Tuning\n",
            "\n",
            "This tuning process aimed to optimize the performance of a Random Forest Regressor model for predicting house prices. We used **RandomizedSearchCV** to efficiently explore a defined range of hyperparameter values. RandomizedSearchCV works by sampling a fixed number of hyperparameter combinations from the specified distribution, performing cross-validation for each combination, and identifying the set of hyperparameters that yields the best performance based on a chosen scoring metric (in this case, negative mean absolute error, equivalent to minimizing MAE).\n",
            "\n",
            "We tuned the following hyperparameters:\n",
            "\n",
            "*   **`n_estimators`**: The number of trees in the forest. Increasing this generally improves performance but also increases computation time.\n",
            "*   **`max_depth`**: The maximum depth of each tree. Deeper trees can capture more complex relationships but risk overfitting.\n",
            "*   **`min_samples_split`**: The minimum number of samples required to split an internal node. Higher values prevent the tree from splitting on small groups of samples, which can help with overfitting.\n",
            "*   **`min_samples_leaf`**: The minimum number of samples required to be at a leaf node. Similar to `min_samples_split`, higher values can help prevent overfitting.\n",
            "*   **`max_features`**: The number of features to consider when looking for the best split. `'sqrt'` (equivalent to `auto` in older versions) and `'log2'` are common choices that introduce randomness and can help prevent overfitting.\n",
            "\n",
            "Analyzing the performance metrics before and after tuning reveals a modest improvement:\n",
            "\n",
            "*   **MAE (Mean Absolute Error):** Decreased from approximately 197558.07 to 191929.57. This indicates that, on average, the tuned model's predictions are closer to the actual prices by about $5628.51.\n",
            "*   **RMSE (Root Mean Squared Error):** Decreased from approximately 898068.90 to 893548.60. RMSE penalizes larger errors more heavily than MAE. The decrease suggests that the tuned model also reduced some of the larger prediction errors.\n",
            "*   **R² (R-squared):** Increased from approximately 0.0425 to 0.0521. R² represents the proportion of the variance in the dependent variable (price) that is predictable from the independent variables. While still relatively low, the increase indicates that the tuned model explains a slightly larger percentage of the variance in house prices compared to the untuned model.\n",
            "\n",
            "The tuning process, while showing a performance improvement, comes with a **trade-off in computation time**. Training multiple models with different hyperparameter combinations and performing cross-validation is significantly more time-consuming than training a single model with default settings. For this specific dataset and the chosen parameter grid, the improvement in accuracy is noticeable but not substantial.\n",
            "\n",
            "In conclusion, hyperparameter tuning using RandomizedSearchCV on this Random Forest model resulted in a slight improvement in performance metrics (lower MAE and RMSE, slightly higher R²). The impact of the tuned hyperparameters is reflected in these improved scores, suggesting that the search found a slightly better configuration for this dataset. However, this improvement came at the cost of increased computation time required for the tuning process. For this particular problem, the observed performance improvement might be considered marginal relative to the computational expense, and a decision on whether to use the tuned model would depend on the specific requirements and constraints of the application.\n",
            "\n",
            "\n"
          ]
        }
      ]
    }
  ]
}