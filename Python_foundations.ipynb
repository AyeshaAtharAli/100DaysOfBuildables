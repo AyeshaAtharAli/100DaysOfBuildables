{
  "nbformat": 4,
  "nbformat_minor": 0,
  "metadata": {
    "colab": {
      "provenance": []
    },
    "kernelspec": {
      "name": "python3",
      "display_name": "Python 3"
    },
    "language_info": {
      "name": "python"
    }
  },
  "cells": [
    {
      "cell_type": "markdown",
      "source": [
        " Variables & Data Types: Create variables of type int, float, string, and list. Print their values and types."
      ],
      "metadata": {
        "id": "f8c1zW_dwF8_"
      }
    },
    {
      "cell_type": "code",
      "execution_count": 3,
      "metadata": {
        "colab": {
          "base_uri": "https://localhost:8080/"
        },
        "id": "Sjp12bgxv241",
        "outputId": "1d521f28-a712-4c1c-b17a-2ba5d23eeb07"
      },
      "outputs": [
        {
          "output_type": "stream",
          "name": "stdout",
          "text": [
            "Ayesha Athar\n",
            "22\n",
            "3.88\n",
            "['Cpp', 'Applied Physics', 'Cryptography', 'Information Security']\n",
            "<class 'str'>\n",
            "<class 'int'>\n",
            "<class 'float'>\n",
            "<class 'list'>\n"
          ]
        }
      ],
      "source": [
        "My_name = \"Ayesha Athar\"\n",
        "\n",
        "My_age = 22\n",
        "\n",
        "My_CGPA = 3.88\n",
        "\n",
        "My_Sub_List = [\"Cpp\", \"Applied Physics\", \"Cryptography\" , \"Information Security\"]\n",
        "\n",
        "print(My_name)\n",
        "print(My_age)\n",
        "print(My_CGPA)\n",
        "print(My_Sub_List)\n",
        "\n",
        "print(type(My_name))\n",
        "print(type(My_age))\n",
        "print(type(My_CGPA))\n",
        "print(type(My_Sub_List))"
      ]
    },
    {
      "cell_type": "markdown",
      "source": [
        " Conditionals: Write a program that checks whether a given number is positive, negative, or zero."
      ],
      "metadata": {
        "id": "fCMZ36wnyqNS"
      }
    },
    {
      "cell_type": "code",
      "source": [
        "number = input(\"enter a number: \")\n",
        "number = int(number)\n",
        "if number > 0:\n",
        "  print(\"positive\")\n",
        "elif number < 0:\n",
        "  print(\"negative\")\n",
        "else:\n",
        "  print(\"zero\")"
      ],
      "metadata": {
        "colab": {
          "base_uri": "https://localhost:8080/"
        },
        "id": "ZYtr61rNyvT-",
        "outputId": "02f9b206-2c22-4bc5-af72-cd5c4219c6ca"
      },
      "execution_count": 6,
      "outputs": [
        {
          "output_type": "stream",
          "name": "stdout",
          "text": [
            "enter a number: -8\n",
            "negative\n"
          ]
        }
      ]
    },
    {
      "cell_type": "markdown",
      "source": [
        "Loops: Write a program to print the first 10 natural numbers using a loop. Write a program to calculate the factorial of a number using a loop.\n",
        "\n"
      ],
      "metadata": {
        "id": "znacIy675uQD"
      }
    },
    {
      "cell_type": "code",
      "source": [
        "for digits in range(11):\n",
        "  print(digits)\n",
        "\n",
        "\n",
        "def factorial(numbers):\n",
        "  if numbers<0:\n",
        "    print(\"Factorial of this number do not exists\")\n",
        "  elif numbers == 0:\n",
        "    return 1\n",
        "  else:\n",
        "    result =1\n",
        "    for factorial in range(1,numbers+1):\n",
        "      result = result*factorial\n",
        "    return result\n",
        "number =5\n",
        "print(\"Factorial of\", number, \"is\", factorial(number))\n"
      ],
      "metadata": {
        "colab": {
          "base_uri": "https://localhost:8080/"
        },
        "id": "3xoCSbJG5zE0",
        "outputId": "52338ce1-21a1-49d7-c9e1-cf9230baf213"
      },
      "execution_count": 36,
      "outputs": [
        {
          "output_type": "stream",
          "name": "stdout",
          "text": [
            "0\n",
            "1\n",
            "2\n",
            "3\n",
            "4\n",
            "5\n",
            "6\n",
            "7\n",
            "8\n",
            "9\n",
            "10\n",
            "Factorial of 5 is 120\n"
          ]
        }
      ]
    },
    {
      "cell_type": "markdown",
      "source": [
        "Functions: Write a function greet(name) that prints \"Hello, <name>!\". Write a function is_even(num) that returns True if a number is even, False otherwise"
      ],
      "metadata": {
        "id": "HFefP9Si5zuj"
      }
    },
    {
      "cell_type": "code",
      "source": [
        "def greet(name):\n",
        "  print(\"Hello \" + name)\n",
        "greet(\"Ayesha\")\n",
        "\n",
        "def is_even(num):\n",
        "  if num % 2 == 0:\n",
        "    return True\n",
        "  else:\n",
        "    return False\n",
        "is_even(8)"
      ],
      "metadata": {
        "colab": {
          "base_uri": "https://localhost:8080/"
        },
        "id": "g3QXMxDx521N",
        "outputId": "3f25bc2e-5aec-4f32-de31-22bfe3306c0d"
      },
      "execution_count": 22,
      "outputs": [
        {
          "output_type": "stream",
          "name": "stdout",
          "text": [
            "Hello Ayesha\n"
          ]
        },
        {
          "output_type": "execute_result",
          "data": {
            "text/plain": [
              "True"
            ]
          },
          "metadata": {},
          "execution_count": 22
        }
      ]
    },
    {
      "cell_type": "markdown",
      "source": [
        " List Operations: Create a list of 5 numbers. Find the max, min, sum, and average using built-in functions. Sort the list and reverse it."
      ],
      "metadata": {
        "id": "5Msv5Yqr53vM"
      }
    },
    {
      "cell_type": "code",
      "source": [
        "list = [8,9,11,10,7]\n",
        "max_number=max(list)\n",
        "print(max_number)\n",
        "min_number=min(list)\n",
        "print(min_number)\n",
        "sum_number=sum(list)\n",
        "print(sum_number)\n",
        "average = sum_number/len(list)\n",
        "print(average)\n",
        "list.reverse()\n",
        "print(list)\n",
        "list.sort()\n",
        "print(list)"
      ],
      "metadata": {
        "colab": {
          "base_uri": "https://localhost:8080/"
        },
        "id": "ooti3R_r56vb",
        "outputId": "5a909675-6c4c-4c73-aa36-06db9db2289f"
      },
      "execution_count": 17,
      "outputs": [
        {
          "output_type": "stream",
          "name": "stdout",
          "text": [
            "11\n",
            "7\n",
            "45\n",
            "9.0\n",
            "[7, 10, 11, 9, 8]\n",
            "[7, 8, 9, 10, 11]\n"
          ]
        }
      ]
    },
    {
      "cell_type": "markdown",
      "source": [
        "Input/Output: Write a program that takes a user’s name and age as input and prints:\n",
        "\"Hello <name>, you are <age> years old.\""
      ],
      "metadata": {
        "id": "vDyoBbnw4Lpx"
      }
    },
    {
      "cell_type": "code",
      "source": [
        "name = input(\"Enter your name:\")\n",
        "age = input(\"Enter your age:\")\n",
        "print(\"Hello\", name, \"you are\", age, \"years old.\")"
      ],
      "metadata": {
        "colab": {
          "base_uri": "https://localhost:8080/"
        },
        "id": "APqplcxk4P5W",
        "outputId": "a4983156-40d7-49be-d17b-386d27ff74ad"
      },
      "execution_count": 4,
      "outputs": [
        {
          "output_type": "stream",
          "name": "stdout",
          "text": [
            "Enter your name:Ayesha\n",
            "Enter your age:22\n",
            "Hello Ayesha you are 22 years old.\n"
          ]
        }
      ]
    }
  ]
}